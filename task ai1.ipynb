{
 "cells": [
  {
   "cell_type": "code",
   "execution_count": null,
   "id": "38810085",
   "metadata": {},
   "outputs": [
    {
     "name": "stdout",
     "output_type": "stream",
     "text": [
      "=== Welcome to Hamza's To-Do List ===\n",
      "\n",
      "Choose what you want to do:\n",
      "1. Add a new task\n",
      "2. View all tasks\n",
      "3. Mark a task as completed\n",
      "4. Delete a task\n",
      "5. Exit\n",
      " Task 'hamza' added successfully!\n",
      "\n",
      "Choose what you want to do:\n",
      "1. Add a new task\n",
      "2. View all tasks\n",
      "3. Mark a task as completed\n",
      "4. Delete a task\n",
      "5. Exit\n",
      "\n",
      " Your Current Tasks:\n",
      "1. hamza - 🕓 Pending\n",
      "\n",
      "Choose what you want to do:\n",
      "1. Add a new task\n",
      "2. View all tasks\n",
      "3. Mark a task as completed\n",
      "4. Delete a task\n",
      "5. Exit\n",
      "Your tasks:\n",
      "1. hamza\n",
      " Invalid number!\n",
      "\n",
      "Choose what you want to do:\n",
      "1. Add a new task\n",
      "2. View all tasks\n",
      "3. Mark a task as completed\n",
      "4. Delete a task\n",
      "5. Exit\n",
      " Thanks for using Hamza's To-Do List! Stay productive!\n"
     ]
    }
   ],
   "source": []
  }
 ],
 "metadata": {
  "kernelspec": {
   "display_name": "base",
   "language": "python",
   "name": "python3"
  },
  "language_info": {
   "codemirror_mode": {
    "name": "ipython",
    "version": 3
   },
   "file_extension": ".py",
   "mimetype": "text/x-python",
   "name": "python",
   "nbconvert_exporter": "python",
   "pygments_lexer": "ipython3",
   "version": "3.12.7"
  }
 },
 "nbformat": 4,
 "nbformat_minor": 5
}
